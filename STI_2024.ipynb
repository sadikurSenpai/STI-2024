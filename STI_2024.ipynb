{
  "nbformat": 4,
  "nbformat_minor": 0,
  "metadata": {
    "colab": {
      "provenance": []
    },
    "kernelspec": {
      "name": "python3",
      "display_name": "Python 3"
    },
    "language_info": {
      "name": "python"
    }
  },
  "cells": [
    {
      "cell_type": "markdown",
      "source": [
        "## To gather the citations iterating through all the sheets of the excel file"
      ],
      "metadata": {
        "id": "47SdFoXM9h9b"
      }
    },
    {
      "cell_type": "code",
      "execution_count": null,
      "metadata": {
        "id": "GR4IjLz69F3b"
      },
      "outputs": [],
      "source": [
        "pip install Scholarly"
      ]
    },
    {
      "cell_type": "code",
      "source": [
        "import pandas as pd\n",
        "import time\n",
        "from scholarly import scholarly, MaxTriesExceededException\n",
        "\n",
        "def get_citation_count(paper_title):\n",
        "    try:\n",
        "        # Search for the paper by title\n",
        "        search_query = scholarly.search_pubs(paper_title)\n",
        "\n",
        "        # Retrieve the first result from the search query\n",
        "        paper = next(search_query)\n",
        "\n",
        "        # Extract the number of citations\n",
        "        citation_count = paper['num_citations']\n",
        "\n",
        "        return citation_count\n",
        "    except MaxTriesExceededException:\n",
        "        print(f\"Max tries exceeded for: {paper_title}\")\n",
        "        return None\n",
        "    except StopIteration:\n",
        "        print(f\"Paper not found: {paper_title}\")\n",
        "        return None\n",
        "    except Exception as e:\n",
        "        print(f\"An error occurred for {paper_title}: {e}\")\n",
        "        return None\n",
        "\n",
        "# Specify the path to your Excel file\n",
        "file_path = 'STI Paper Citation Reports 2023.xlsx'\n",
        "\n",
        "# Load the Excel file\n",
        "xls = pd.ExcelFile(file_path)\n",
        "\n",
        "# Iterate through all sheet names\n",
        "for sheet_name in xls.sheet_names:\n",
        "    # Load the specified sheet from the Excel file\n",
        "    df = pd.read_excel(file_path, sheet_name=sheet_name)\n",
        "\n",
        "    # Specify the column name\n",
        "    column_name = 'Paper Title'\n",
        "\n",
        "    # Create a new column for citations if it doesn't already exist\n",
        "    if 'Citations from Google Scholar' not in df.columns:\n",
        "        df['Citations from Google Scholar'] = None\n",
        "\n",
        "    # Print each row's value for the specified column\n",
        "    for i, (index, value) in enumerate(df[column_name].items(), start=1):\n",
        "        citation_count = get_citation_count(value)\n",
        "        df.at[index, 'Citations from Google Scholar'] = citation_count\n",
        "        print(f\"{i} : {value} - {citation_count}\")\n",
        "\n",
        "        # Add a delay between requests\n",
        "        time.sleep(10)  # Adjust the delay as needed\n",
        "\n",
        "    # Save the updated DataFrame back to the Excel file\n",
        "    df.to_excel(file_path, sheet_name=sheet_name, index=False)"
      ],
      "metadata": {
        "id": "tIwiNh9T9Igb"
      },
      "execution_count": null,
      "outputs": []
    },
    {
      "cell_type": "markdown",
      "source": [
        "## To create bar plot of each sheets (Paper title, Citations)"
      ],
      "metadata": {
        "id": "3qDBb6dI9tDb"
      }
    },
    {
      "cell_type": "code",
      "source": [
        "import matplotlib.pyplot as plt\n",
        "\n",
        "# Specify the path to your Excel file\n",
        "file_path = 'STI Paper Citation Reports 2023 (citation_update).xlsx'\n",
        "\n",
        "# Load the Excel file\n",
        "xls = pd.ExcelFile(file_path)\n",
        "\n",
        "# Iterate through all sheet names\n",
        "for sheet_name in xls.sheet_names:\n",
        "    # Load the specified sheet from the Excel file\n",
        "    data = pd.read_excel(file_path, sheet_name=sheet_name)\n",
        "\n",
        "    # Check if the \"Citations from Google Scholar\" column exists\n",
        "    if 'Citations from Google Scholar' not in data.columns:\n",
        "        print(f\"Skipping sheet {sheet_name} as it does not contain 'Citations from Google Scholar' column.\")\n",
        "        continue\n",
        "\n",
        "    # Sort the data by citations in descending order and select top 30\n",
        "    top_30 = data.sort_values(by='Citations from Google Scholar', ascending=False).head(30)\n",
        "\n",
        "    # Shorten titles for the plot\n",
        "    top_30['Short Title'] = top_30['Paper Title'].apply(lambda x: ' '.join(x.split()[:4]) + '...')\n",
        "\n",
        "    # Create a horizontal bar plot\n",
        "    plt.figure(figsize=(10, 8))\n",
        "    plt.barh(top_30['Short Title'], top_30['Citations from Google Scholar'], color='skyblue')\n",
        "    plt.xlabel('Citations')\n",
        "    plt.title(f'Top 30 Cited Papers of {sheet_name}')\n",
        "    plt.gca().invert_yaxis()  # Invert y-axis to have the highest citations at the top\n",
        "    plt.tight_layout()\n",
        "\n",
        "    # Save the plot as an image file\n",
        "    plt.savefig(f'Top_30_Cited_Papers_of_{sheet_name}.png')\n",
        "\n",
        "    # Show the plot\n",
        "    plt.show()\n"
      ],
      "metadata": {
        "id": "0duGzqQf9ePz"
      },
      "execution_count": null,
      "outputs": []
    }
  ]
}